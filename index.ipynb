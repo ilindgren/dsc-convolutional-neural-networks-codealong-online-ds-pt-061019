{
 "cells": [
  {
   "cell_type": "markdown",
   "metadata": {},
   "source": [
    "# Convolutional Neural Networks - Codealong\n",
    "\n",
    "## Introduction\n",
    "\n",
    "In this codealong, we will reinvestigate our previous Santa image classification example. To do this, we will review loading a dataset from a nested directory structure and building a baseline model. From there, we'll build a CNN and demonstrate its improved performance on image recognition tasks. It is recommended you run the cells in order to further explore variables and investigate the code snippets themselves. However, please note that some cells (particularly training cells later on) may take several minutes to run. (On a Macbook pro the entire notebook took ~15 minutes to run.)\n",
    "\n",
    "## Objectives  \n",
    "\n",
    "You will be able to:\n",
    "\n",
    "- Load images from a hierarchical file structure using an image datagenerator \n",
    "- Explain why one might augment image data when training a neural network \n",
    "- Apply data augmentation to image files before training a neural network \n",
    "- Build a CNN using Keras "
   ]
  },
  {
   "cell_type": "markdown",
   "metadata": {},
   "source": [
    "## Properly store your images \n",
    "\n",
    "When you're analyzing your image data, file management is important. We will be using the santa images again, but this time, they are stored in two folders: `santa` and `not_santa`. We want to work with a `train`, `validation`, and `test` datasets now, as we know by now that this is the best way to obtain unbiased estimate of your model performance.  \n",
    "\n",
    "Let's import libraries `os` and `shutil`, as we'll need them to create the new folders and move the new files in there."
   ]
  },
  {
   "cell_type": "code",
   "execution_count": 1,
   "metadata": {},
   "outputs": [],
   "source": [
    "import os, shutil"
   ]
  },
  {
   "cell_type": "markdown",
   "metadata": {},
   "source": [
    "Below we create three objects representing the existing directories: `data/santa/` as `data_santa_dir` and `data/not_santa/` as `data_not_santa_dir`. We will create a new directory `split/` as `new_dir`, where we will split the dataset in three groups (or three subdirectories): `train`, `test`, and `validation`, each containing `santa` and `not_santa` subfolders. The final desired structure is represented below: \n",
    "\n",
    "![title](images/folder_structure.png)"
   ]
  },
  {
   "cell_type": "code",
   "execution_count": 2,
   "metadata": {},
   "outputs": [],
   "source": [
    "data_santa_dir = 'data/santa/'\n",
    "data_not_santa_dir = 'data/not_santa/'\n",
    "new_dir = 'split/'"
   ]
  },
  {
   "cell_type": "markdown",
   "metadata": {},
   "source": [
    "You can use `os.listdir()` to create an object that stores all the relevant image names. "
   ]
  },
  {
   "cell_type": "code",
   "execution_count": 3,
   "metadata": {},
   "outputs": [],
   "source": [
    "imgs_santa = [file for file in os.listdir(data_santa_dir) if file.endswith('.jpg')]"
   ]
  },
  {
   "cell_type": "code",
   "execution_count": 4,
   "metadata": {},
   "outputs": [
    {
     "data": {
      "text/plain": [
       "['00000000.jpg',\n",
       " '00000001.jpg',\n",
       " '00000003.jpg',\n",
       " '00000004.jpg',\n",
       " '00000005.jpg',\n",
       " '00000006.jpg',\n",
       " '00000007.jpg',\n",
       " '00000008.jpg',\n",
       " '00000009.jpg',\n",
       " '00000010.jpg']"
      ]
     },
     "execution_count": 4,
     "metadata": {},
     "output_type": "execute_result"
    }
   ],
   "source": [
    "imgs_santa[0:10]"
   ]
  },
  {
   "cell_type": "markdown",
   "metadata": {},
   "source": [
    "Let's see how many images there are in the `santa` directory."
   ]
  },
  {
   "cell_type": "code",
   "execution_count": 5,
   "metadata": {},
   "outputs": [
    {
     "name": "stdout",
     "output_type": "stream",
     "text": [
      "There are 461 santa images\n"
     ]
    }
   ],
   "source": [
    "print('There are', len(imgs_santa), 'santa images')"
   ]
  },
  {
   "cell_type": "markdown",
   "metadata": {},
   "source": [
    "Now, repeat this for the `not_santa` directory: "
   ]
  },
  {
   "cell_type": "code",
   "execution_count": 6,
   "metadata": {},
   "outputs": [],
   "source": [
    "imgs_not_santa = [file for file in os.listdir(data_not_santa_dir) if file.endswith('.jpg')]"
   ]
  },
  {
   "cell_type": "code",
   "execution_count": 7,
   "metadata": {},
   "outputs": [
    {
     "name": "stdout",
     "output_type": "stream",
     "text": [
      "There are 461 images without santa\n"
     ]
    }
   ],
   "source": [
    "print('There are', len(imgs_not_santa), 'images without santa')"
   ]
  },
  {
   "cell_type": "markdown",
   "metadata": {},
   "source": [
    "Create all the folders and subfolders in order to get the structure represented above. You can use `os.path.join()` to create strings that will be used later on to generate new directories."
   ]
  },
  {
   "cell_type": "code",
   "execution_count": 8,
   "metadata": {},
   "outputs": [
    {
     "ename": "FileExistsError",
     "evalue": "[WinError 183] Cannot create a file when that file already exists: 'split/'",
     "output_type": "error",
     "traceback": [
      "\u001b[1;31m---------------------------------------------------------------------------\u001b[0m",
      "\u001b[1;31mFileExistsError\u001b[0m                           Traceback (most recent call last)",
      "\u001b[1;32m<ipython-input-8-0d1f8d3cb245>\u001b[0m in \u001b[0;36m<module>\u001b[1;34m\u001b[0m\n\u001b[1;32m----> 1\u001b[1;33m \u001b[0mos\u001b[0m\u001b[1;33m.\u001b[0m\u001b[0mmkdir\u001b[0m\u001b[1;33m(\u001b[0m\u001b[0mnew_dir\u001b[0m\u001b[1;33m)\u001b[0m\u001b[1;33m\u001b[0m\u001b[1;33m\u001b[0m\u001b[0m\n\u001b[0m",
      "\u001b[1;31mFileExistsError\u001b[0m: [WinError 183] Cannot create a file when that file already exists: 'split/'"
     ]
    }
   ],
   "source": [
    "os.mkdir(new_dir)"
   ]
  },
  {
   "cell_type": "code",
   "execution_count": 9,
   "metadata": {},
   "outputs": [],
   "source": [
    "train_folder = os.path.join(new_dir, 'train')\n",
    "train_santa = os.path.join(train_folder, 'santa')\n",
    "train_not_santa = os.path.join(train_folder, 'not_santa')\n",
    "\n",
    "test_folder = os.path.join(new_dir, 'test')\n",
    "test_santa = os.path.join(test_folder, 'santa')\n",
    "test_not_santa = os.path.join(test_folder, 'not_santa')\n",
    "\n",
    "val_folder = os.path.join(new_dir, 'validation')\n",
    "val_santa = os.path.join(val_folder, 'santa')\n",
    "val_not_santa = os.path.join(val_folder, 'not_santa')"
   ]
  },
  {
   "cell_type": "code",
   "execution_count": 10,
   "metadata": {},
   "outputs": [
    {
     "data": {
      "text/plain": [
       "'split/train\\\\santa'"
      ]
     },
     "execution_count": 10,
     "metadata": {},
     "output_type": "execute_result"
    }
   ],
   "source": [
    "train_santa"
   ]
  },
  {
   "cell_type": "markdown",
   "metadata": {},
   "source": [
    "Now use all the path strings you created to make new directories. You can use `os.mkdir()` to do this. Go have a look at your directory and see if this worked!"
   ]
  },
  {
   "cell_type": "code",
   "execution_count": 11,
   "metadata": {},
   "outputs": [
    {
     "ename": "FileExistsError",
     "evalue": "[WinError 183] Cannot create a file when that file already exists: 'split/test'",
     "output_type": "error",
     "traceback": [
      "\u001b[1;31m---------------------------------------------------------------------------\u001b[0m",
      "\u001b[1;31mFileExistsError\u001b[0m                           Traceback (most recent call last)",
      "\u001b[1;32m<ipython-input-11-9ef278089501>\u001b[0m in \u001b[0;36m<module>\u001b[1;34m\u001b[0m\n\u001b[1;32m----> 1\u001b[1;33m \u001b[0mos\u001b[0m\u001b[1;33m.\u001b[0m\u001b[0mmkdir\u001b[0m\u001b[1;33m(\u001b[0m\u001b[0mtest_folder\u001b[0m\u001b[1;33m)\u001b[0m\u001b[1;33m\u001b[0m\u001b[1;33m\u001b[0m\u001b[0m\n\u001b[0m\u001b[0;32m      2\u001b[0m \u001b[0mos\u001b[0m\u001b[1;33m.\u001b[0m\u001b[0mmkdir\u001b[0m\u001b[1;33m(\u001b[0m\u001b[0mtest_santa\u001b[0m\u001b[1;33m)\u001b[0m\u001b[1;33m\u001b[0m\u001b[1;33m\u001b[0m\u001b[0m\n\u001b[0;32m      3\u001b[0m \u001b[0mos\u001b[0m\u001b[1;33m.\u001b[0m\u001b[0mmkdir\u001b[0m\u001b[1;33m(\u001b[0m\u001b[0mtest_not_santa\u001b[0m\u001b[1;33m)\u001b[0m\u001b[1;33m\u001b[0m\u001b[1;33m\u001b[0m\u001b[0m\n\u001b[0;32m      4\u001b[0m \u001b[1;33m\u001b[0m\u001b[0m\n\u001b[0;32m      5\u001b[0m \u001b[0mos\u001b[0m\u001b[1;33m.\u001b[0m\u001b[0mmkdir\u001b[0m\u001b[1;33m(\u001b[0m\u001b[0mtrain_folder\u001b[0m\u001b[1;33m)\u001b[0m\u001b[1;33m\u001b[0m\u001b[1;33m\u001b[0m\u001b[0m\n",
      "\u001b[1;31mFileExistsError\u001b[0m: [WinError 183] Cannot create a file when that file already exists: 'split/test'"
     ]
    }
   ],
   "source": [
    "os.mkdir(test_folder)\n",
    "os.mkdir(test_santa)\n",
    "os.mkdir(test_not_santa)\n",
    "\n",
    "os.mkdir(train_folder)\n",
    "os.mkdir(train_santa)\n",
    "os.mkdir(train_not_santa)\n",
    "\n",
    "os.mkdir(val_folder)\n",
    "os.mkdir(val_santa)\n",
    "os.mkdir(val_not_santa)"
   ]
  },
  {
   "cell_type": "markdown",
   "metadata": {},
   "source": [
    "Copy the Santa images in the three santa subfolders. Let's put the first 271 images in the training set, the next 100 images in the validation set and the final 90 images in the test set."
   ]
  },
  {
   "cell_type": "code",
   "execution_count": 12,
   "metadata": {},
   "outputs": [],
   "source": [
    "# train santa\n",
    "imgs = imgs_santa[:271]\n",
    "for img in imgs:\n",
    "    origin = os.path.join(data_santa_dir, img)\n",
    "    destination = os.path.join(train_santa, img)\n",
    "    shutil.copyfile(origin, destination)"
   ]
  },
  {
   "cell_type": "code",
   "execution_count": 13,
   "metadata": {},
   "outputs": [],
   "source": [
    "# validation santa\n",
    "imgs = imgs_santa[271:371]\n",
    "for img in imgs:\n",
    "    origin = os.path.join(data_santa_dir, img)\n",
    "    destination = os.path.join(val_santa, img)\n",
    "    shutil.copyfile(origin, destination)"
   ]
  },
  {
   "cell_type": "code",
   "execution_count": 14,
   "metadata": {},
   "outputs": [],
   "source": [
    "# test santa\n",
    "imgs = imgs_santa[371:]\n",
    "for img in imgs:\n",
    "    origin = os.path.join(data_santa_dir, img)\n",
    "    destination = os.path.join(test_santa, img)\n",
    "    shutil.copyfile(origin, destination)"
   ]
  },
  {
   "cell_type": "markdown",
   "metadata": {},
   "source": [
    "Now, repeat all this for the `not_santa` images!"
   ]
  },
  {
   "cell_type": "code",
   "execution_count": 15,
   "metadata": {},
   "outputs": [],
   "source": [
    "# train not_santa\n",
    "imgs = imgs_not_santa[:271]\n",
    "for img in imgs:\n",
    "    origin = os.path.join(data_not_santa_dir, img)\n",
    "    destination = os.path.join(train_not_santa, img)\n",
    "    shutil.copyfile(origin, destination)\n",
    "# validation not_santa\n",
    "imgs = imgs_not_santa[271:371]\n",
    "for img in imgs:\n",
    "    origin = os.path.join(data_not_santa_dir, img)\n",
    "    destination = os.path.join(val_not_santa, img)\n",
    "    shutil.copyfile(origin, destination)\n",
    "# test not_santa\n",
    "imgs = imgs_not_santa[371:]\n",
    "for img in imgs:\n",
    "    origin = os.path.join(data_not_santa_dir, img)\n",
    "    destination = os.path.join(test_not_santa, img)\n",
    "    shutil.copyfile(origin, destination)"
   ]
  },
  {
   "cell_type": "markdown",
   "metadata": {},
   "source": [
    "Let's print out how many images we have in each directory so we know for sure our numbers are right!"
   ]
  },
  {
   "cell_type": "code",
   "execution_count": 16,
   "metadata": {},
   "outputs": [
    {
     "name": "stdout",
     "output_type": "stream",
     "text": [
      "There are 381 santa images in the training set\n"
     ]
    }
   ],
   "source": [
    "print('There are', len(os.listdir(train_santa)), 'santa images in the training set')"
   ]
  },
  {
   "cell_type": "code",
   "execution_count": 17,
   "metadata": {},
   "outputs": [
    {
     "name": "stdout",
     "output_type": "stream",
     "text": [
      "There are 182 santa images in the validation set\n"
     ]
    }
   ],
   "source": [
    "print('There are', len(os.listdir(val_santa)), 'santa images in the validation set')"
   ]
  },
  {
   "cell_type": "code",
   "execution_count": 18,
   "metadata": {},
   "outputs": [
    {
     "name": "stdout",
     "output_type": "stream",
     "text": [
      "There are 167 santa images in the test set\n"
     ]
    }
   ],
   "source": [
    "print('There are', len(os.listdir(test_santa)), 'santa images in the test set')"
   ]
  },
  {
   "cell_type": "code",
   "execution_count": 19,
   "metadata": {},
   "outputs": [
    {
     "name": "stdout",
     "output_type": "stream",
     "text": [
      "There are 383 images without santa in the train set\n"
     ]
    }
   ],
   "source": [
    "print('There are', len(os.listdir(train_not_santa)), 'images without santa in the train set')"
   ]
  },
  {
   "cell_type": "code",
   "execution_count": 20,
   "metadata": {},
   "outputs": [
    {
     "name": "stdout",
     "output_type": "stream",
     "text": [
      "There are 178 images without santa in the validation set\n"
     ]
    }
   ],
   "source": [
    "print('There are', len(os.listdir(val_not_santa)), 'images without santa in the validation set')"
   ]
  },
  {
   "cell_type": "code",
   "execution_count": 21,
   "metadata": {},
   "outputs": [
    {
     "name": "stdout",
     "output_type": "stream",
     "text": [
      "There are 157 images without santa in the test set\n"
     ]
    }
   ],
   "source": [
    "print('There are', len(os.listdir(test_not_santa)), 'images without santa in the test set')"
   ]
  },
  {
   "cell_type": "markdown",
   "metadata": {},
   "source": [
    "## Use a densely connected network as a baseline"
   ]
  },
  {
   "cell_type": "markdown",
   "metadata": {},
   "source": [
    "Now that we've a handle on our data, we can easily use Keras' module with image-processing tools. Let's import the necessary libraries below. "
   ]
  },
  {
   "cell_type": "code",
   "execution_count": 22,
   "metadata": {},
   "outputs": [
    {
     "name": "stderr",
     "output_type": "stream",
     "text": [
      "Using TensorFlow backend.\n"
     ]
    }
   ],
   "source": [
    "import time\n",
    "import matplotlib.pyplot as plt\n",
    "import scipy\n",
    "import numpy as np\n",
    "from PIL import Image\n",
    "from scipy import ndimage\n",
    "from keras.preprocessing.image import ImageDataGenerator, array_to_img, img_to_array, load_img\n",
    "\n",
    "np.random.seed(123)"
   ]
  },
  {
   "cell_type": "code",
   "execution_count": 23,
   "metadata": {},
   "outputs": [
    {
     "name": "stdout",
     "output_type": "stream",
     "text": [
      "Found 324 images belonging to 2 classes.\n",
      "Found 360 images belonging to 2 classes.\n",
      "Found 764 images belonging to 2 classes.\n"
     ]
    }
   ],
   "source": [
    "# get all the data in the directory split/test (180 images), and reshape them\n",
    "test_generator = ImageDataGenerator(rescale=1./255).flow_from_directory(\n",
    "        test_folder, \n",
    "        target_size=(64, 64), batch_size = 180) \n",
    "\n",
    "# get all the data in the directory split/validation (200 images), and reshape them\n",
    "val_generator = ImageDataGenerator(rescale=1./255).flow_from_directory(\n",
    "        val_folder, \n",
    "        target_size=(64, 64), batch_size = 200)\n",
    "\n",
    "# get all the data in the directory split/train (542 images), and reshape them\n",
    "train_generator = ImageDataGenerator(rescale=1./255).flow_from_directory(\n",
    "        train_folder, \n",
    "        target_size=(64, 64), batch_size=542)"
   ]
  },
  {
   "cell_type": "code",
   "execution_count": 24,
   "metadata": {},
   "outputs": [],
   "source": [
    "# create the data sets\n",
    "train_images, train_labels = next(train_generator)\n",
    "test_images, test_labels = next(test_generator)\n",
    "val_images, val_labels = next(val_generator)"
   ]
  },
  {
   "cell_type": "code",
   "execution_count": 25,
   "metadata": {},
   "outputs": [
    {
     "name": "stdout",
     "output_type": "stream",
     "text": [
      "Number of training samples: 542\n",
      "Number of testing samples: 180\n",
      "Number of validation samples: 200\n",
      "train_images shape: (542, 64, 64, 3)\n",
      "train_labels shape: (542, 2)\n",
      "test_images shape: (180, 64, 64, 3)\n",
      "test_labels shape: (180, 2)\n",
      "val_images shape: (200, 64, 64, 3)\n",
      "val_labels shape: (200, 2)\n"
     ]
    }
   ],
   "source": [
    "# Explore your dataset again\n",
    "m_train = train_images.shape[0]\n",
    "num_px = train_images.shape[1]\n",
    "m_test = test_images.shape[0]\n",
    "m_val = val_images.shape[0]\n",
    "\n",
    "print (\"Number of training samples: \" + str(m_train))\n",
    "print (\"Number of testing samples: \" + str(m_test))\n",
    "print (\"Number of validation samples: \" + str(m_val))\n",
    "print (\"train_images shape: \" + str(train_images.shape))\n",
    "print (\"train_labels shape: \" + str(train_labels.shape))\n",
    "print (\"test_images shape: \" + str(test_images.shape))\n",
    "print (\"test_labels shape: \" + str(test_labels.shape))\n",
    "print (\"val_images shape: \" + str(val_images.shape))\n",
    "print (\"val_labels shape: \" + str(val_labels.shape))"
   ]
  },
  {
   "cell_type": "code",
   "execution_count": 26,
   "metadata": {},
   "outputs": [
    {
     "name": "stdout",
     "output_type": "stream",
     "text": [
      "(542, 12288)\n",
      "(180, 12288)\n",
      "(200, 12288)\n"
     ]
    }
   ],
   "source": [
    "train_img = train_images.reshape(train_images.shape[0], -1)\n",
    "test_img = test_images.reshape(test_images.shape[0], -1)\n",
    "val_img = val_images.reshape(val_images.shape[0], -1)\n",
    "\n",
    "print(train_img.shape)\n",
    "print(test_img.shape)\n",
    "print(val_img.shape)"
   ]
  },
  {
   "cell_type": "code",
   "execution_count": 27,
   "metadata": {},
   "outputs": [],
   "source": [
    "train_y = np.reshape(train_labels[:,0], (542,1))\n",
    "test_y = np.reshape(test_labels[:,0], (180,1))\n",
    "val_y = np.reshape(val_labels[:,0], (200,1))"
   ]
  },
  {
   "cell_type": "code",
   "execution_count": 28,
   "metadata": {},
   "outputs": [],
   "source": [
    "# Build a baseline fully connected model\n",
    "from keras import models\n",
    "from keras import layers\n",
    "np.random.seed(123)\n",
    "model = models.Sequential()\n",
    "model.add(layers.Dense(20, activation='relu', input_shape=(12288,))) # 2 hidden layers\n",
    "model.add(layers.Dense(7, activation='relu'))\n",
    "model.add(layers.Dense(5, activation='relu'))\n",
    "model.add(layers.Dense(1, activation='sigmoid'))"
   ]
  },
  {
   "cell_type": "code",
   "execution_count": 29,
   "metadata": {},
   "outputs": [
    {
     "name": "stdout",
     "output_type": "stream",
     "text": [
      "Train on 542 samples, validate on 200 samples\n",
      "Epoch 1/50\n",
      "542/542 [==============================] - ETA: 1s - loss: 0.6167 - accuracy: 0.62 - 0s 330us/step - loss: 0.7084 - accuracy: 0.4945 - val_loss: 0.6626 - val_accuracy: 0.5150\n",
      "Epoch 2/50\n",
      "542/542 [==============================] - 0s 142us/step - loss: 0.6773 - accuracy: 0.5055 - val_loss: 0.6598 - val_accuracy: 0.5800\n",
      "Epoch 3/50\n",
      "542/542 [==============================] - 0s 159us/step - loss: 0.6599 - accuracy: 0.5609 - val_loss: 0.6360 - val_accuracy: 0.5450\n",
      "Epoch 4/50\n",
      "542/542 [==============================] - 0s 154us/step - loss: 0.6484 - accuracy: 0.6476 - val_loss: 0.6203 - val_accuracy: 0.6250\n",
      "Epoch 5/50\n",
      "542/542 [==============================] - 0s 167us/step - loss: 0.6392 - accuracy: 0.6070 - val_loss: 0.6218 - val_accuracy: 0.7350\n",
      "Epoch 6/50\n",
      "542/542 [==============================] - 0s 166us/step - loss: 0.6352 - accuracy: 0.6421 - val_loss: 0.5952 - val_accuracy: 0.6650\n",
      "Epoch 7/50\n",
      "542/542 [==============================] - 0s 171us/step - loss: 0.6096 - accuracy: 0.6494 - val_loss: 0.6765 - val_accuracy: 0.5150\n",
      "Epoch 8/50\n",
      "542/542 [==============================] - 0s 175us/step - loss: 0.5780 - accuracy: 0.7030 - val_loss: 0.5303 - val_accuracy: 0.8000\n",
      "Epoch 9/50\n",
      "542/542 [==============================] - 0s 178us/step - loss: 0.6244 - accuracy: 0.6458 - val_loss: 0.5565 - val_accuracy: 0.6300\n",
      "Epoch 10/50\n",
      "542/542 [==============================] - 0s 167us/step - loss: 0.5246 - accuracy: 0.7306 - val_loss: 0.4931 - val_accuracy: 0.8000\n",
      "Epoch 11/50\n",
      "542/542 [==============================] - 0s 180us/step - loss: 0.5452 - accuracy: 0.7417 - val_loss: 0.5663 - val_accuracy: 0.7050\n",
      "Epoch 12/50\n",
      "542/542 [==============================] - 0s 173us/step - loss: 0.5591 - accuracy: 0.7122 - val_loss: 0.4838 - val_accuracy: 0.7800\n",
      "Epoch 13/50\n",
      "542/542 [==============================] - 0s 182us/step - loss: 0.5180 - accuracy: 0.7491 - val_loss: 0.4682 - val_accuracy: 0.8200\n",
      "Epoch 14/50\n",
      "542/542 [==============================] - 0s 184us/step - loss: 0.4982 - accuracy: 0.7934 - val_loss: 0.4509 - val_accuracy: 0.8150\n",
      "Epoch 15/50\n",
      "542/542 [==============================] - 0s 182us/step - loss: 0.4351 - accuracy: 0.8118 - val_loss: 0.6304 - val_accuracy: 0.6000\n",
      "Epoch 16/50\n",
      "542/542 [==============================] - 0s 158us/step - loss: 0.4776 - accuracy: 0.7712 - val_loss: 0.4556 - val_accuracy: 0.7350\n",
      "Epoch 17/50\n",
      "542/542 [==============================] - 0s 178us/step - loss: 0.4732 - accuracy: 0.7731 - val_loss: 0.5334 - val_accuracy: 0.6500\n",
      "Epoch 18/50\n",
      "542/542 [==============================] - 0s 160us/step - loss: 0.3937 - accuracy: 0.8247 - val_loss: 0.5174 - val_accuracy: 0.6850\n",
      "Epoch 19/50\n",
      "542/542 [==============================] - 0s 177us/step - loss: 0.4094 - accuracy: 0.7952 - val_loss: 0.4753 - val_accuracy: 0.7250\n",
      "Epoch 20/50\n",
      "542/542 [==============================] - 0s 180us/step - loss: 0.4654 - accuracy: 0.7952 - val_loss: 0.7146 - val_accuracy: 0.5650\n",
      "Epoch 21/50\n",
      "542/542 [==============================] - 0s 188us/step - loss: 0.4430 - accuracy: 0.8044 - val_loss: 0.4062 - val_accuracy: 0.8650\n",
      "Epoch 22/50\n",
      "542/542 [==============================] - 0s 177us/step - loss: 0.4155 - accuracy: 0.8081 - val_loss: 0.4617 - val_accuracy: 0.8100\n",
      "Epoch 23/50\n",
      "542/542 [==============================] - 0s 195us/step - loss: 0.3460 - accuracy: 0.8413 - val_loss: 0.4001 - val_accuracy: 0.8000\n",
      "Epoch 24/50\n",
      "542/542 [==============================] - 0s 171us/step - loss: 0.3933 - accuracy: 0.8155 - val_loss: 0.4478 - val_accuracy: 0.8100\n",
      "Epoch 25/50\n",
      "542/542 [==============================] - 0s 167us/step - loss: 0.3796 - accuracy: 0.8192 - val_loss: 0.3538 - val_accuracy: 0.8500\n",
      "Epoch 26/50\n",
      "542/542 [==============================] - 0s 167us/step - loss: 0.3494 - accuracy: 0.8487 - val_loss: 0.4917 - val_accuracy: 0.7600\n",
      "Epoch 27/50\n",
      "542/542 [==============================] - 0s 184us/step - loss: 0.3419 - accuracy: 0.8579 - val_loss: 0.4243 - val_accuracy: 0.8000\n",
      "Epoch 28/50\n",
      "542/542 [==============================] - 0s 180us/step - loss: 0.3654 - accuracy: 0.8118 - val_loss: 0.5151 - val_accuracy: 0.7600\n",
      "Epoch 29/50\n",
      "542/542 [==============================] - 0s 173us/step - loss: 0.3854 - accuracy: 0.8210 - val_loss: 0.3891 - val_accuracy: 0.8050\n",
      "Epoch 30/50\n",
      "542/542 [==============================] - 0s 178us/step - loss: 0.2858 - accuracy: 0.8819 - val_loss: 0.5261 - val_accuracy: 0.7100\n",
      "Epoch 31/50\n",
      "542/542 [==============================] - 0s 162us/step - loss: 0.3215 - accuracy: 0.8579 - val_loss: 0.3866 - val_accuracy: 0.8150\n",
      "Epoch 32/50\n",
      "542/542 [==============================] - 0s 180us/step - loss: 0.2934 - accuracy: 0.8801 - val_loss: 0.4390 - val_accuracy: 0.7750\n",
      "Epoch 33/50\n",
      "542/542 [==============================] - 0s 178us/step - loss: 0.3244 - accuracy: 0.8838 - val_loss: 0.3166 - val_accuracy: 0.8450\n",
      "Epoch 34/50\n",
      "542/542 [==============================] - 0s 190us/step - loss: 0.2358 - accuracy: 0.9188 - val_loss: 0.3166 - val_accuracy: 0.8500\n",
      "Epoch 35/50\n",
      "542/542 [==============================] - 0s 180us/step - loss: 0.2699 - accuracy: 0.8690 - val_loss: 0.3274 - val_accuracy: 0.8600\n",
      "Epoch 36/50\n",
      "542/542 [==============================] - 0s 166us/step - loss: 0.3586 - accuracy: 0.8856 - val_loss: 0.3228 - val_accuracy: 0.8600\n",
      "Epoch 37/50\n",
      "542/542 [==============================] - 0s 164us/step - loss: 0.2726 - accuracy: 0.8893 - val_loss: 0.3364 - val_accuracy: 0.8550\n",
      "Epoch 38/50\n",
      "542/542 [==============================] - 0s 175us/step - loss: 0.2925 - accuracy: 0.8782 - val_loss: 0.2861 - val_accuracy: 0.8900\n",
      "Epoch 39/50\n",
      "542/542 [==============================] - 0s 177us/step - loss: 0.2927 - accuracy: 0.8469 - val_loss: 0.5539 - val_accuracy: 0.7450\n",
      "Epoch 40/50\n",
      "542/542 [==============================] - 0s 178us/step - loss: 0.2676 - accuracy: 0.8782 - val_loss: 0.3056 - val_accuracy: 0.8750\n",
      "Epoch 41/50\n",
      "542/542 [==============================] - 0s 169us/step - loss: 0.2103 - accuracy: 0.9207 - val_loss: 0.3124 - val_accuracy: 0.8800\n",
      "Epoch 42/50\n",
      "542/542 [==============================] - 0s 171us/step - loss: 0.2590 - accuracy: 0.9225 - val_loss: 0.2816 - val_accuracy: 0.8800\n",
      "Epoch 43/50\n",
      "542/542 [==============================] - 0s 182us/step - loss: 0.2450 - accuracy: 0.9041 - val_loss: 0.7187 - val_accuracy: 0.7400\n",
      "Epoch 44/50\n",
      "542/542 [==============================] - 0s 190us/step - loss: 0.2239 - accuracy: 0.9207 - val_loss: 0.4064 - val_accuracy: 0.8200\n",
      "Epoch 45/50\n",
      "542/542 [==============================] - 0s 175us/step - loss: 0.1809 - accuracy: 0.9170 - val_loss: 0.3500 - val_accuracy: 0.8650\n",
      "Epoch 46/50\n",
      "542/542 [==============================] - 0s 169us/step - loss: 0.1585 - accuracy: 0.9557 - val_loss: 0.3747 - val_accuracy: 0.8450\n",
      "Epoch 47/50\n",
      "542/542 [==============================] - 0s 155us/step - loss: 0.2559 - accuracy: 0.8948 - val_loss: 0.3056 - val_accuracy: 0.8850\n",
      "Epoch 48/50\n",
      "542/542 [==============================] - 0s 175us/step - loss: 0.1613 - accuracy: 0.9502 - val_loss: 0.2747 - val_accuracy: 0.8800\n",
      "Epoch 49/50\n",
      "542/542 [==============================] - 0s 152us/step - loss: 0.1792 - accuracy: 0.9373 - val_loss: 0.3238 - val_accuracy: 0.8550\n",
      "Epoch 50/50\n",
      "542/542 [==============================] - 0s 171us/step - loss: 0.3571 - accuracy: 0.8690 - val_loss: 0.3001 - val_accuracy: 0.8800\n"
     ]
    }
   ],
   "source": [
    "model.compile(optimizer='sgd',\n",
    "              loss='binary_crossentropy',\n",
    "              metrics=['accuracy'])\n",
    "\n",
    "histoire = model.fit(train_img,\n",
    "                    train_y,\n",
    "                    epochs=50,\n",
    "                    batch_size=32,\n",
    "                    validation_data=(val_img, val_y))"
   ]
  },
  {
   "cell_type": "code",
   "execution_count": 30,
   "metadata": {},
   "outputs": [
    {
     "name": "stdout",
     "output_type": "stream",
     "text": [
      "542/542 [==============================] - 0s 79us/step\n"
     ]
    }
   ],
   "source": [
    "results_train = model.evaluate(train_img, train_y)"
   ]
  },
  {
   "cell_type": "code",
   "execution_count": 31,
   "metadata": {},
   "outputs": [
    {
     "name": "stdout",
     "output_type": "stream",
     "text": [
      "180/180 [==============================] - 0s 100us/step\n"
     ]
    }
   ],
   "source": [
    "results_test = model.evaluate(test_img, test_y)"
   ]
  },
  {
   "cell_type": "code",
   "execution_count": 32,
   "metadata": {},
   "outputs": [
    {
     "data": {
      "text/plain": [
       "[0.1696315164165743, 0.9667896628379822]"
      ]
     },
     "execution_count": 32,
     "metadata": {},
     "output_type": "execute_result"
    }
   ],
   "source": [
    "results_train"
   ]
  },
  {
   "cell_type": "code",
   "execution_count": 33,
   "metadata": {},
   "outputs": [
    {
     "data": {
      "text/plain": [
       "[0.31185656487941743, 0.9055555462837219]"
      ]
     },
     "execution_count": 33,
     "metadata": {},
     "output_type": "execute_result"
    }
   ],
   "source": [
    "results_test"
   ]
  },
  {
   "cell_type": "markdown",
   "metadata": {},
   "source": [
    "Remember that, in our previous lab on building deeper neural networks from scratch, we obtained a training accuracy of 95%, and a test set accuracy of 74.23%. \n",
    "\n",
    "This result is similar to what we got building our manual \"deeper\" dense model. The results are not entirely different. This is not a surprise!\n",
    "- Before, we only had a training and a validation set (which was at the same time the test set). Now we have split up the data 3-ways.\n",
    "- We didn't use minibatches before, yet we used mini-batches of 32 units here.\n",
    " \n",
    "## Build a CNN"
   ]
  },
  {
   "cell_type": "code",
   "execution_count": 34,
   "metadata": {},
   "outputs": [],
   "source": [
    "model = models.Sequential()\n",
    "model.add(layers.Conv2D(32, (3, 3), activation='relu',\n",
    "                        input_shape=(64 ,64,  3)))\n",
    "model.add(layers.MaxPooling2D((2, 2)))\n",
    "\n",
    "model.add(layers.Conv2D(32, (4, 4), activation='relu'))\n",
    "model.add(layers.MaxPooling2D((2, 2)))\n",
    "\n",
    "model.add(layers.Conv2D(64, (3, 3), activation='relu'))\n",
    "model.add(layers.MaxPooling2D((2, 2)))\n",
    "\n",
    "model.add(layers.Flatten())\n",
    "model.add(layers.Dense(64, activation='relu'))\n",
    "model.add(layers.Dense(1, activation='sigmoid'))\n",
    "\n",
    "model.compile(loss='binary_crossentropy',\n",
    "              optimizer=\"sgd\",\n",
    "              metrics=['acc'])"
   ]
  },
  {
   "cell_type": "code",
   "execution_count": 35,
   "metadata": {},
   "outputs": [
    {
     "name": "stdout",
     "output_type": "stream",
     "text": [
      "Train on 542 samples, validate on 200 samples\n",
      "Epoch 1/30\n",
      "542/542 [==============================] - 2s 3ms/step - loss: 0.6910 - acc: 0.5221 - val_loss: 0.6813 - val_acc: 0.5300\n",
      "Epoch 2/30\n",
      "542/542 [==============================] - 2s 3ms/step - loss: 0.6820 - acc: 0.4889 - val_loss: 0.6740 - val_acc: 0.5200\n",
      "Epoch 3/30\n",
      "542/542 [==============================] - 2s 3ms/step - loss: 0.6773 - acc: 0.4889 - val_loss: 0.6681 - val_acc: 0.5200\n",
      "Epoch 4/30\n",
      "542/542 [==============================] - 2s 4ms/step - loss: 0.6727 - acc: 0.5000 - val_loss: 0.6614 - val_acc: 0.5200\n",
      "Epoch 5/30\n",
      "542/542 [==============================] - 2s 3ms/step - loss: 0.6685 - acc: 0.4908 - val_loss: 0.6584 - val_acc: 0.5400\n",
      "Epoch 6/30\n",
      "542/542 [==============================] - 2s 4ms/step - loss: 0.6635 - acc: 0.5314 - val_loss: 0.6512 - val_acc: 0.5550\n",
      "Epoch 7/30\n",
      "542/542 [==============================] - 2s 3ms/step - loss: 0.6578 - acc: 0.5480 - val_loss: 0.6440 - val_acc: 0.6450\n",
      "Epoch 8/30\n",
      "542/542 [==============================] - 2s 3ms/step - loss: 0.6511 - acc: 0.6624 - val_loss: 0.6312 - val_acc: 0.5550\n",
      "Epoch 9/30\n",
      "542/542 [==============================] - 2s 3ms/step - loss: 0.6410 - acc: 0.6513 - val_loss: 0.6188 - val_acc: 0.5800\n",
      "Epoch 10/30\n",
      "542/542 [==============================] - 2s 3ms/step - loss: 0.6275 - acc: 0.6900 - val_loss: 0.6017 - val_acc: 0.6800\n",
      "Epoch 11/30\n",
      "542/542 [==============================] - 2s 3ms/step - loss: 0.6114 - acc: 0.7269 - val_loss: 0.5913 - val_acc: 0.8900\n",
      "Epoch 12/30\n",
      "542/542 [==============================] - 2s 3ms/step - loss: 0.5923 - acc: 0.7915 - val_loss: 0.5620 - val_acc: 0.8950\n",
      "Epoch 13/30\n",
      "542/542 [==============================] - 2s 3ms/step - loss: 0.5765 - acc: 0.7804 - val_loss: 0.5513 - val_acc: 0.8700\n",
      "Epoch 14/30\n",
      "542/542 [==============================] - 2s 3ms/step - loss: 0.5405 - acc: 0.8118 - val_loss: 0.5444 - val_acc: 0.7850\n",
      "Epoch 15/30\n",
      "542/542 [==============================] - 2s 3ms/step - loss: 0.5448 - acc: 0.7786 - val_loss: 0.4543 - val_acc: 0.8850\n",
      "Epoch 16/30\n",
      "542/542 [==============================] - 2s 3ms/step - loss: 0.5100 - acc: 0.7731 - val_loss: 0.4323 - val_acc: 0.8450\n",
      "Epoch 17/30\n",
      "542/542 [==============================] - 2s 3ms/step - loss: 0.4957 - acc: 0.7823 - val_loss: 0.4415 - val_acc: 0.8600\n",
      "Epoch 18/30\n",
      "542/542 [==============================] - 2s 3ms/step - loss: 0.4600 - acc: 0.8081 - val_loss: 0.4517 - val_acc: 0.7250\n",
      "Epoch 19/30\n",
      "542/542 [==============================] - 2s 3ms/step - loss: 0.5124 - acc: 0.7491 - val_loss: 0.4763 - val_acc: 0.7700\n",
      "Epoch 20/30\n",
      "542/542 [==============================] - 2s 3ms/step - loss: 0.4093 - acc: 0.8376 - val_loss: 0.3129 - val_acc: 0.9300\n",
      "Epoch 21/30\n",
      "542/542 [==============================] - 2s 3ms/step - loss: 0.4401 - acc: 0.8063 - val_loss: 0.3054 - val_acc: 0.9300\n",
      "Epoch 22/30\n",
      "542/542 [==============================] - 2s 3ms/step - loss: 0.4258 - acc: 0.8137 - val_loss: 0.3995 - val_acc: 0.7850\n",
      "Epoch 23/30\n",
      "542/542 [==============================] - 2s 3ms/step - loss: 0.3881 - acc: 0.8413 - val_loss: 0.3153 - val_acc: 0.8700\n",
      "Epoch 24/30\n",
      "542/542 [==============================] - 2s 3ms/step - loss: 0.4030 - acc: 0.8266 - val_loss: 0.2630 - val_acc: 0.9500\n",
      "Epoch 25/30\n",
      "542/542 [==============================] - 2s 3ms/step - loss: 0.3539 - acc: 0.8561 - val_loss: 0.2422 - val_acc: 0.9450\n",
      "Epoch 26/30\n",
      "542/542 [==============================] - 2s 3ms/step - loss: 0.3906 - acc: 0.8358 - val_loss: 0.2536 - val_acc: 0.9500\n",
      "Epoch 27/30\n",
      "542/542 [==============================] - 2s 3ms/step - loss: 0.3236 - acc: 0.8727 - val_loss: 0.2550 - val_acc: 0.9200\n",
      "Epoch 28/30\n",
      "542/542 [==============================] - 2s 3ms/step - loss: 0.3425 - acc: 0.8579 - val_loss: 0.2792 - val_acc: 0.8900\n",
      "Epoch 29/30\n",
      "542/542 [==============================] - 2s 3ms/step - loss: 0.3598 - acc: 0.8450 - val_loss: 0.2566 - val_acc: 0.9000\n",
      "Epoch 30/30\n",
      "542/542 [==============================] - 2s 3ms/step - loss: 0.3091 - acc: 0.8708 - val_loss: 0.2461 - val_acc: 0.9200\n"
     ]
    }
   ],
   "source": [
    "history = model.fit(train_images,\n",
    "                    train_y,\n",
    "                    epochs=30,\n",
    "                    batch_size=32,\n",
    "                    validation_data=(val_images, val_y))"
   ]
  },
  {
   "cell_type": "code",
   "execution_count": 36,
   "metadata": {},
   "outputs": [
    {
     "name": "stdout",
     "output_type": "stream",
     "text": [
      "542/542 [==============================] - 0s 884us/step\n"
     ]
    }
   ],
   "source": [
    "results_train = model.evaluate(train_images, train_y)"
   ]
  },
  {
   "cell_type": "code",
   "execution_count": 37,
   "metadata": {},
   "outputs": [
    {
     "name": "stdout",
     "output_type": "stream",
     "text": [
      "180/180 [==============================] - 0s 851us/step\n"
     ]
    }
   ],
   "source": [
    "results_test = model.evaluate(test_images, test_y)"
   ]
  },
  {
   "cell_type": "code",
   "execution_count": 38,
   "metadata": {},
   "outputs": [
    {
     "data": {
      "text/plain": [
       "[0.3325499531527727, 0.8726937174797058]"
      ]
     },
     "execution_count": 38,
     "metadata": {},
     "output_type": "execute_result"
    }
   ],
   "source": [
    "results_train"
   ]
  },
  {
   "cell_type": "code",
   "execution_count": 39,
   "metadata": {},
   "outputs": [
    {
     "data": {
      "text/plain": [
       "[0.34216617014673023, 0.8666666746139526]"
      ]
     },
     "execution_count": 39,
     "metadata": {},
     "output_type": "execute_result"
    }
   ],
   "source": [
    "results_test"
   ]
  },
  {
   "cell_type": "markdown",
   "metadata": {},
   "source": [
    "## Data Augmentation"
   ]
  },
  {
   "cell_type": "markdown",
   "metadata": {},
   "source": [
    "`ImageDataGenerator()` becomes really useful when we *actually* want to generate more data. We'll show you how this works. "
   ]
  },
  {
   "cell_type": "code",
   "execution_count": 40,
   "metadata": {},
   "outputs": [],
   "source": [
    "train_datagen = ImageDataGenerator(rescale=1./255, \n",
    "                                   rotation_range=40, \n",
    "                                   width_shift_range=0.2, \n",
    "                                   height_shift_range=0.2, \n",
    "                                   shear_range=0.3, \n",
    "                                   zoom_range=0.1, \n",
    "                                   horizontal_flip=False)"
   ]
  },
  {
   "cell_type": "code",
   "execution_count": 41,
   "metadata": {},
   "outputs": [
    {
     "data": {
      "image/png": "[encoded data removed]",
      "text/plain": [
       "<Figure size 432x288 with 1 Axes>"
      ]
     },
     "metadata": {
      "needs_background": "light"
     },
     "output_type": "display_data"
    },
    {
     "data": {
      "image/png": "[encoded data removed]",
      "text/plain": [
       "<Figure size 432x288 with 1 Axes>"
      ]
     },
     "metadata": {
      "needs_background": "light"
     },
     "output_type": "display_data"
    },
    {
     "data": {
      "image/png": "[encoded data removed]",
      "text/plain": [
       "<Figure size 432x288 with 1 Axes>"
      ]
     },
     "metadata": {
      "needs_background": "light"
     },
     "output_type": "display_data"
    }
   ],
   "source": [
    "names = [os.path.join(train_santa, name) for name in os.listdir(train_santa)]\n",
    "img_path = names[91]\n",
    "img = load_img(img_path, target_size=(64, 64))\n",
    "\n",
    "reshape_img = img_to_array(img) \n",
    "reshape_img = reshape_img.reshape((1,) + reshape_img.shape) \n",
    "i=0\n",
    "for batch in train_datagen.flow(reshape_img, batch_size=1):\n",
    "    plt.figure(i)\n",
    "    imgplot = plt.imshow(array_to_img(batch[0]))\n",
    "    i += 1\n",
    "    if i % 3 == 0:\n",
    "        break\n",
    "plt.show()"
   ]
  },
  {
   "cell_type": "code",
   "execution_count": 42,
   "metadata": {},
   "outputs": [
    {
     "name": "stdout",
     "output_type": "stream",
     "text": [
      "Found 324 images belonging to 2 classes.\n",
      "Found 360 images belonging to 2 classes.\n",
      "Found 764 images belonging to 2 classes.\n"
     ]
    }
   ],
   "source": [
    "# get all the data in the directory split/test (180 images), and reshape them\n",
    "test_generator = ImageDataGenerator(rescale=1./255).flow_from_directory(\n",
    "        test_folder, \n",
    "        target_size=(64, 64), \n",
    "        batch_size = 180,\n",
    "        class_mode='binary') \n",
    "\n",
    "# get all the data in the directory split/validation (200 images), and reshape them\n",
    "val_generator = ImageDataGenerator(rescale=1./255).flow_from_directory(\n",
    "        val_folder, \n",
    "        target_size=(64, 64),\n",
    "        batch_size = 32,\n",
    "        class_mode='binary')\n",
    "\n",
    "# get all the data in the directory split/train (542 images), and reshape them\n",
    "train_generator = train_datagen.flow_from_directory(\n",
    "        train_folder, \n",
    "        target_size=(64, 64), \n",
    "        batch_size = 32, \n",
    "        class_mode='binary')"
   ]
  },
  {
   "cell_type": "code",
   "execution_count": 43,
   "metadata": {},
   "outputs": [],
   "source": [
    "model = models.Sequential()\n",
    "model.add(layers.Conv2D(32, (3, 3), activation='relu',\n",
    "                        input_shape=(64 ,64,  3)))\n",
    "model.add(layers.MaxPooling2D((2, 2)))\n",
    "\n",
    "model.add(layers.Conv2D(32, (4, 4), activation='relu'))\n",
    "model.add(layers.MaxPooling2D((2, 2)))\n",
    "\n",
    "model.add(layers.Conv2D(64, (3, 3), activation='relu'))\n",
    "model.add(layers.MaxPooling2D((2, 2)))\n",
    "\n",
    "model.add(layers.Flatten())\n",
    "model.add(layers.Dense(64, activation='relu'))\n",
    "model.add(layers.Dense(1, activation='sigmoid'))\n",
    "\n",
    "model.compile(loss='binary_crossentropy',\n",
    "              optimizer= 'sgd',\n",
    "              metrics=['acc'])"
   ]
  },
  {
   "cell_type": "code",
   "execution_count": 44,
   "metadata": {},
   "outputs": [
    {
     "name": "stdout",
     "output_type": "stream",
     "text": [
      "Epoch 1/30\n",
      "25/25 [==============================] - 23s 916ms/step - loss: 0.6862 - acc: 0.5653 - val_loss: 0.6725 - val_acc: 0.5080\n",
      "Epoch 2/30\n",
      "25/25 [==============================] - 16s 646ms/step - loss: 0.6783 - acc: 0.4987 - val_loss: 0.7080 - val_acc: 0.5027\n",
      "Epoch 3/30\n",
      "25/25 [==============================] - 19s 752ms/step - loss: 0.6719 - acc: 0.4950 - val_loss: 0.6479 - val_acc: 0.5306\n",
      "Epoch 4/30\n",
      "25/25 [==============================] - 18s 706ms/step - loss: 0.6645 - acc: 0.5201 - val_loss: 0.6739 - val_acc: 0.5332\n",
      "Epoch 5/30\n",
      "25/25 [==============================] - 18s 715ms/step - loss: 0.6560 - acc: 0.5314 - val_loss: 0.6643 - val_acc: 0.5173\n",
      "Epoch 6/30\n",
      "25/25 [==============================] - 20s 789ms/step - loss: 0.6444 - acc: 0.5817 - val_loss: 0.6476 - val_acc: 0.5372\n",
      "Epoch 7/30\n",
      "25/25 [==============================] - 19s 768ms/step - loss: 0.6387 - acc: 0.5892 - val_loss: 0.6301 - val_acc: 0.5771\n",
      "Epoch 8/30\n",
      "25/25 [==============================] - 21s 835ms/step - loss: 0.6114 - acc: 0.6420 - val_loss: 0.6087 - val_acc: 0.5771\n",
      "Epoch 9/30\n",
      "25/25 [==============================] - 21s 830ms/step - loss: 0.5982 - acc: 0.7550 - val_loss: 0.5062 - val_acc: 0.7327\n",
      "Epoch 10/30\n",
      "25/25 [==============================] - 21s 842ms/step - loss: 0.5669 - acc: 0.8028 - val_loss: 0.4625 - val_acc: 0.8338\n",
      "Epoch 11/30\n",
      "25/25 [==============================] - 22s 885ms/step - loss: 0.5342 - acc: 0.7854 - val_loss: 0.4642 - val_acc: 0.8949\n",
      "Epoch 12/30\n",
      "25/25 [==============================] - 23s 926ms/step - loss: 0.4991 - acc: 0.7977 - val_loss: 0.4822 - val_acc: 0.8407\n",
      "Epoch 13/30\n",
      "25/25 [==============================] - 17s 663ms/step - loss: 0.4759 - acc: 0.7887 - val_loss: 0.3990 - val_acc: 0.9269\n",
      "Epoch 14/30\n",
      "25/25 [==============================] - 17s 694ms/step - loss: 0.4116 - acc: 0.8485 - val_loss: 0.5073 - val_acc: 0.7088\n",
      "Epoch 15/30\n",
      "25/25 [==============================] - 18s 733ms/step - loss: 0.4874 - acc: 0.7487 - val_loss: 0.4522 - val_acc: 0.7527\n",
      "Epoch 16/30\n",
      "25/25 [==============================] - 18s 729ms/step - loss: 0.3734 - acc: 0.8555 - val_loss: 0.3580 - val_acc: 0.9242\n",
      "Epoch 17/30\n",
      "25/25 [==============================] - 20s 813ms/step - loss: 0.3632 - acc: 0.8467 - val_loss: 0.3827 - val_acc: 0.9136\n",
      "Epoch 18/30\n",
      "25/25 [==============================] - 21s 826ms/step - loss: 0.3359 - acc: 0.8530 - val_loss: 0.2268 - val_acc: 0.9082\n",
      "Epoch 19/30\n",
      "25/25 [==============================] - 21s 825ms/step - loss: 0.3484 - acc: 0.8455 - val_loss: 0.2633 - val_acc: 0.9043\n",
      "Epoch 20/30\n",
      "25/25 [==============================] - 22s 894ms/step - loss: 0.3029 - acc: 0.8769 - val_loss: 0.1289 - val_acc: 0.8949\n",
      "Epoch 21/30\n",
      "25/25 [==============================] - 20s 813ms/step - loss: 0.2748 - acc: 0.8932 - val_loss: 0.1181 - val_acc: 0.9282\n",
      "Epoch 22/30\n",
      "25/25 [==============================] - 23s 900ms/step - loss: 0.3008 - acc: 0.8769 - val_loss: 0.1917 - val_acc: 0.9122\n",
      "Epoch 23/30\n",
      "25/25 [==============================] - 23s 935ms/step - loss: 0.2708 - acc: 0.8982 - val_loss: 0.4319 - val_acc: 0.9202\n",
      "Epoch 24/30\n",
      "25/25 [==============================] - 30s 1s/step - loss: 0.2590 - acc: 0.8920 - val_loss: 0.1072 - val_acc: 0.9313\n",
      "Epoch 25/30\n",
      "25/25 [==============================] - 18s 721ms/step - loss: 0.2951 - acc: 0.8907 - val_loss: 0.2635 - val_acc: 0.9335\n",
      "Epoch 26/30\n",
      "25/25 [==============================] - 18s 713ms/step - loss: 0.2646 - acc: 0.8970 - val_loss: 0.5208 - val_acc: 0.8923\n",
      "Epoch 27/30\n",
      "25/25 [==============================] - 18s 721ms/step - loss: 0.2254 - acc: 0.9171 - val_loss: 0.4193 - val_acc: 0.8178\n",
      "Epoch 28/30\n",
      "25/25 [==============================] - 18s 718ms/step - loss: 0.2522 - acc: 0.9095 - val_loss: 0.1002 - val_acc: 0.9189\n",
      "Epoch 29/30\n",
      "25/25 [==============================] - 20s 809ms/step - loss: 0.2642 - acc: 0.8945 - val_loss: 0.3012 - val_acc: 0.9122\n",
      "Epoch 30/30\n",
      "25/25 [==============================] - 19s 766ms/step - loss: 0.2093 - acc: 0.9183 - val_loss: 0.0970 - val_acc: 0.9242\n"
     ]
    }
   ],
   "source": [
    "history_2 = model.fit_generator(train_generator, \n",
    "                                steps_per_epoch=25, \n",
    "                                epochs=30, \n",
    "                                validation_data=val_generator, \n",
    "                                validation_steps=25)"
   ]
  },
  {
   "cell_type": "code",
   "execution_count": 45,
   "metadata": {},
   "outputs": [],
   "source": [
    "test_x, test_y = next(test_generator)"
   ]
  },
  {
   "cell_type": "code",
   "execution_count": 46,
   "metadata": {},
   "outputs": [
    {
     "name": "stdout",
     "output_type": "stream",
     "text": [
      "180/180 [==============================] - 0s 675us/step\n"
     ]
    }
   ],
   "source": [
    "results_test = model.evaluate(test_x, test_y)"
   ]
  },
  {
   "cell_type": "code",
   "execution_count": 47,
   "metadata": {},
   "outputs": [
    {
     "data": {
      "text/plain": [
       "[0.24329180982377793, 0.9055555462837219]"
      ]
     },
     "execution_count": 47,
     "metadata": {},
     "output_type": "execute_result"
    }
   ],
   "source": [
    "results_test"
   ]
  },
  {
   "cell_type": "markdown",
   "metadata": {},
   "source": [
    "## Summary  \n",
    "\n",
    "In this code along lab, we looked again at some of the preprocessing techniques needed in order to organize our data prior to building a model using Keras. Afterwards, we investigated new code in order to build a CNN for image recognition."
   ]
  }
 ],
 "metadata": {
  "kernelspec": {
   "display_name": "Python 3",
   "language": "python",
   "name": "python3"
  },
  "language_info": {
   "codemirror_mode": {
    "name": "ipython",
    "version": 3
   },
   "file_extension": ".py",
   "mimetype": "text/x-python",
   "name": "python",
   "nbconvert_exporter": "python",
   "pygments_lexer": "ipython3",
   "version": "3.7.3"
  },
  "toc": {
   "base_numbering": 1,
   "nav_menu": {},
   "number_sections": true,
   "sideBar": true,
   "skip_h1_title": false,
   "title_cell": "Table of Contents",
   "title_sidebar": "Contents",
   "toc_cell": false,
   "toc_position": {},
   "toc_section_display": true,
   "toc_window_display": false
  }
 },
 "nbformat": 4,
 "nbformat_minor": 2
}
